{
 "cells": [
  {
   "cell_type": "code",
   "execution_count": 3,
   "metadata": {
    "ExecuteTime": {
     "end_time": "2024-02-20T17:07:32.514825200Z",
     "start_time": "2024-02-20T17:07:28.504999200Z"
    }
   },
   "outputs": [
    {
     "name": "stderr",
     "output_type": "stream",
     "text": [
      "[nltk_data] Downloading package wordnet to\n",
      "[nltk_data]     C:\\Users\\alavh\\AppData\\Roaming\\nltk_data...\n",
      "[nltk_data]   Package wordnet is already up-to-date!\n"
     ]
    },
    {
     "data": {
      "text/plain": "                                       Hotel_Address  \\\n0   s Gravesandestraat 55 Oost 1092 AA Amsterdam ...   \n1   s Gravesandestraat 55 Oost 1092 AA Amsterdam ...   \n2   s Gravesandestraat 55 Oost 1092 AA Amsterdam ...   \n3   s Gravesandestraat 55 Oost 1092 AA Amsterdam ...   \n4   s Gravesandestraat 55 Oost 1092 AA Amsterdam ...   \n5   s Gravesandestraat 55 Oost 1092 AA Amsterdam ...   \n6   s Gravesandestraat 55 Oost 1092 AA Amsterdam ...   \n7   s Gravesandestraat 55 Oost 1092 AA Amsterdam ...   \n8   s Gravesandestraat 55 Oost 1092 AA Amsterdam ...   \n9   s Gravesandestraat 55 Oost 1092 AA Amsterdam ...   \n\n   Additional_Number_of_Scoring Review_Date  Average_Score   Hotel_Name  \\\n0                           194    8/3/2017            7.7  Hotel Arena   \n1                           194    8/3/2017            7.7  Hotel Arena   \n2                           194   7/31/2017            7.7  Hotel Arena   \n3                           194   7/31/2017            7.7  Hotel Arena   \n4                           194   7/24/2017            7.7  Hotel Arena   \n5                           194   7/24/2017            7.7  Hotel Arena   \n6                           194   7/17/2017            7.7  Hotel Arena   \n7                           194   7/17/2017            7.7  Hotel Arena   \n8                           194    7/9/2017            7.7  Hotel Arena   \n9                           194    7/8/2017            7.7  Hotel Arena   \n\n  Reviewer_Nationality                                    Negative_Review  \\\n0              Russia    I am so angry that i made this post available...   \n1             Ireland                                         No Negative   \n2           Australia    Rooms are nice but for elderly a bit difficul...   \n3      United Kingdom    My room was dirty and I was afraid to walk ba...   \n4         New Zealand    You When I booked with your company on line y...   \n5              Poland    Backyard of the hotel is total mess shouldn t...   \n6      United Kingdom    Cleaner did not change our sheet and duvet ev...   \n7      United Kingdom    Apart from the price for the brekfast Everyth...   \n8             Belgium    Even though the pictures show very clean room...   \n9              Norway    The aircondition makes so much noise and its ...   \n\n   Review_Total_Negative_Word_Counts  Total_Number_of_Reviews  \\\n0                                397                     1403   \n1                                  0                     1403   \n2                                 42                     1403   \n3                                210                     1403   \n4                                140                     1403   \n5                                 17                     1403   \n6                                 33                     1403   \n7                                 11                     1403   \n8                                 34                     1403   \n9                                 15                     1403   \n\n                                     Positive_Review  \\\n0   Only the park outside of the hotel was beauti...   \n1   No real complaints the hotel was great great ...   \n2   Location was good and staff were ok It is cut...   \n3   Great location in nice surroundings the bar a...   \n4    Amazing location and building Romantic setting    \n5   Good restaurant with modern design great chil...   \n6   The room is spacious and bright The hotel is ...   \n7   Good location Set in a lovely park friendly s...   \n8                                        No Positive   \n9   The room was big enough and the bed is good T...   \n\n   Review_Total_Positive_Word_Counts  \\\n0                                 11   \n1                                105   \n2                                 21   \n3                                 26   \n4                                  8   \n5                                 20   \n6                                 18   \n7                                 19   \n8                                  0   \n9                                 50   \n\n   Total_Number_of_Reviews_Reviewer_Has_Given  Reviewer_Score  \\\n0                                           7             2.9   \n1                                           7             7.5   \n2                                           9             7.1   \n3                                           1             3.8   \n4                                           3             6.7   \n5                                           1             6.7   \n6                                           6             4.6   \n7                                           1            10.0   \n8                                           3             6.5   \n9                                           1             7.9   \n\n                                                Tags days_since_review  \\\n0  [' Leisure trip ', ' Couple ', ' Duplex Double...            0 days   \n1  [' Leisure trip ', ' Couple ', ' Duplex Double...            0 days   \n2  [' Leisure trip ', ' Family with young childre...            3 days   \n3  [' Leisure trip ', ' Solo traveler ', ' Duplex...            3 days   \n4  [' Leisure trip ', ' Couple ', ' Suite ', ' St...           10 days   \n5  [' Leisure trip ', ' Group ', ' Duplex Double ...           10 days   \n6  [' Leisure trip ', ' Group ', ' Duplex Twin Ro...           17 days   \n7  [' Leisure trip ', ' Couple ', ' Duplex Double...           17 days   \n8  [' Leisure trip ', ' Couple ', ' Duplex Double...           25 days   \n9  [' Leisure trip ', ' Couple ', ' Large King Ro...           26 days   \n\n         lat       lng  \n0  52.360576  4.915968  \n1  52.360576  4.915968  \n2  52.360576  4.915968  \n3  52.360576  4.915968  \n4  52.360576  4.915968  \n5  52.360576  4.915968  \n6  52.360576  4.915968  \n7  52.360576  4.915968  \n8  52.360576  4.915968  \n9  52.360576  4.915968  ",
      "text/html": "<div>\n<style scoped>\n    .dataframe tbody tr th:only-of-type {\n        vertical-align: middle;\n    }\n\n    .dataframe tbody tr th {\n        vertical-align: top;\n    }\n\n    .dataframe thead th {\n        text-align: right;\n    }\n</style>\n<table border=\"1\" class=\"dataframe\">\n  <thead>\n    <tr style=\"text-align: right;\">\n      <th></th>\n      <th>Hotel_Address</th>\n      <th>Additional_Number_of_Scoring</th>\n      <th>Review_Date</th>\n      <th>Average_Score</th>\n      <th>Hotel_Name</th>\n      <th>Reviewer_Nationality</th>\n      <th>Negative_Review</th>\n      <th>Review_Total_Negative_Word_Counts</th>\n      <th>Total_Number_of_Reviews</th>\n      <th>Positive_Review</th>\n      <th>Review_Total_Positive_Word_Counts</th>\n      <th>Total_Number_of_Reviews_Reviewer_Has_Given</th>\n      <th>Reviewer_Score</th>\n      <th>Tags</th>\n      <th>days_since_review</th>\n      <th>lat</th>\n      <th>lng</th>\n    </tr>\n  </thead>\n  <tbody>\n    <tr>\n      <th>0</th>\n      <td>s Gravesandestraat 55 Oost 1092 AA Amsterdam ...</td>\n      <td>194</td>\n      <td>8/3/2017</td>\n      <td>7.7</td>\n      <td>Hotel Arena</td>\n      <td>Russia</td>\n      <td>I am so angry that i made this post available...</td>\n      <td>397</td>\n      <td>1403</td>\n      <td>Only the park outside of the hotel was beauti...</td>\n      <td>11</td>\n      <td>7</td>\n      <td>2.9</td>\n      <td>[' Leisure trip ', ' Couple ', ' Duplex Double...</td>\n      <td>0 days</td>\n      <td>52.360576</td>\n      <td>4.915968</td>\n    </tr>\n    <tr>\n      <th>1</th>\n      <td>s Gravesandestraat 55 Oost 1092 AA Amsterdam ...</td>\n      <td>194</td>\n      <td>8/3/2017</td>\n      <td>7.7</td>\n      <td>Hotel Arena</td>\n      <td>Ireland</td>\n      <td>No Negative</td>\n      <td>0</td>\n      <td>1403</td>\n      <td>No real complaints the hotel was great great ...</td>\n      <td>105</td>\n      <td>7</td>\n      <td>7.5</td>\n      <td>[' Leisure trip ', ' Couple ', ' Duplex Double...</td>\n      <td>0 days</td>\n      <td>52.360576</td>\n      <td>4.915968</td>\n    </tr>\n    <tr>\n      <th>2</th>\n      <td>s Gravesandestraat 55 Oost 1092 AA Amsterdam ...</td>\n      <td>194</td>\n      <td>7/31/2017</td>\n      <td>7.7</td>\n      <td>Hotel Arena</td>\n      <td>Australia</td>\n      <td>Rooms are nice but for elderly a bit difficul...</td>\n      <td>42</td>\n      <td>1403</td>\n      <td>Location was good and staff were ok It is cut...</td>\n      <td>21</td>\n      <td>9</td>\n      <td>7.1</td>\n      <td>[' Leisure trip ', ' Family with young childre...</td>\n      <td>3 days</td>\n      <td>52.360576</td>\n      <td>4.915968</td>\n    </tr>\n    <tr>\n      <th>3</th>\n      <td>s Gravesandestraat 55 Oost 1092 AA Amsterdam ...</td>\n      <td>194</td>\n      <td>7/31/2017</td>\n      <td>7.7</td>\n      <td>Hotel Arena</td>\n      <td>United Kingdom</td>\n      <td>My room was dirty and I was afraid to walk ba...</td>\n      <td>210</td>\n      <td>1403</td>\n      <td>Great location in nice surroundings the bar a...</td>\n      <td>26</td>\n      <td>1</td>\n      <td>3.8</td>\n      <td>[' Leisure trip ', ' Solo traveler ', ' Duplex...</td>\n      <td>3 days</td>\n      <td>52.360576</td>\n      <td>4.915968</td>\n    </tr>\n    <tr>\n      <th>4</th>\n      <td>s Gravesandestraat 55 Oost 1092 AA Amsterdam ...</td>\n      <td>194</td>\n      <td>7/24/2017</td>\n      <td>7.7</td>\n      <td>Hotel Arena</td>\n      <td>New Zealand</td>\n      <td>You When I booked with your company on line y...</td>\n      <td>140</td>\n      <td>1403</td>\n      <td>Amazing location and building Romantic setting</td>\n      <td>8</td>\n      <td>3</td>\n      <td>6.7</td>\n      <td>[' Leisure trip ', ' Couple ', ' Suite ', ' St...</td>\n      <td>10 days</td>\n      <td>52.360576</td>\n      <td>4.915968</td>\n    </tr>\n    <tr>\n      <th>5</th>\n      <td>s Gravesandestraat 55 Oost 1092 AA Amsterdam ...</td>\n      <td>194</td>\n      <td>7/24/2017</td>\n      <td>7.7</td>\n      <td>Hotel Arena</td>\n      <td>Poland</td>\n      <td>Backyard of the hotel is total mess shouldn t...</td>\n      <td>17</td>\n      <td>1403</td>\n      <td>Good restaurant with modern design great chil...</td>\n      <td>20</td>\n      <td>1</td>\n      <td>6.7</td>\n      <td>[' Leisure trip ', ' Group ', ' Duplex Double ...</td>\n      <td>10 days</td>\n      <td>52.360576</td>\n      <td>4.915968</td>\n    </tr>\n    <tr>\n      <th>6</th>\n      <td>s Gravesandestraat 55 Oost 1092 AA Amsterdam ...</td>\n      <td>194</td>\n      <td>7/17/2017</td>\n      <td>7.7</td>\n      <td>Hotel Arena</td>\n      <td>United Kingdom</td>\n      <td>Cleaner did not change our sheet and duvet ev...</td>\n      <td>33</td>\n      <td>1403</td>\n      <td>The room is spacious and bright The hotel is ...</td>\n      <td>18</td>\n      <td>6</td>\n      <td>4.6</td>\n      <td>[' Leisure trip ', ' Group ', ' Duplex Twin Ro...</td>\n      <td>17 days</td>\n      <td>52.360576</td>\n      <td>4.915968</td>\n    </tr>\n    <tr>\n      <th>7</th>\n      <td>s Gravesandestraat 55 Oost 1092 AA Amsterdam ...</td>\n      <td>194</td>\n      <td>7/17/2017</td>\n      <td>7.7</td>\n      <td>Hotel Arena</td>\n      <td>United Kingdom</td>\n      <td>Apart from the price for the brekfast Everyth...</td>\n      <td>11</td>\n      <td>1403</td>\n      <td>Good location Set in a lovely park friendly s...</td>\n      <td>19</td>\n      <td>1</td>\n      <td>10.0</td>\n      <td>[' Leisure trip ', ' Couple ', ' Duplex Double...</td>\n      <td>17 days</td>\n      <td>52.360576</td>\n      <td>4.915968</td>\n    </tr>\n    <tr>\n      <th>8</th>\n      <td>s Gravesandestraat 55 Oost 1092 AA Amsterdam ...</td>\n      <td>194</td>\n      <td>7/9/2017</td>\n      <td>7.7</td>\n      <td>Hotel Arena</td>\n      <td>Belgium</td>\n      <td>Even though the pictures show very clean room...</td>\n      <td>34</td>\n      <td>1403</td>\n      <td>No Positive</td>\n      <td>0</td>\n      <td>3</td>\n      <td>6.5</td>\n      <td>[' Leisure trip ', ' Couple ', ' Duplex Double...</td>\n      <td>25 days</td>\n      <td>52.360576</td>\n      <td>4.915968</td>\n    </tr>\n    <tr>\n      <th>9</th>\n      <td>s Gravesandestraat 55 Oost 1092 AA Amsterdam ...</td>\n      <td>194</td>\n      <td>7/8/2017</td>\n      <td>7.7</td>\n      <td>Hotel Arena</td>\n      <td>Norway</td>\n      <td>The aircondition makes so much noise and its ...</td>\n      <td>15</td>\n      <td>1403</td>\n      <td>The room was big enough and the bed is good T...</td>\n      <td>50</td>\n      <td>1</td>\n      <td>7.9</td>\n      <td>[' Leisure trip ', ' Couple ', ' Large King Ro...</td>\n      <td>26 days</td>\n      <td>52.360576</td>\n      <td>4.915968</td>\n    </tr>\n  </tbody>\n</table>\n</div>"
     },
     "execution_count": 3,
     "metadata": {},
     "output_type": "execute_result"
    }
   ],
   "source": [
    "import nltk\n",
    "nltk.download('wordnet')\n",
    "import numpy as np\n",
    "import pandas as pd\n",
    "from nltk.corpus import stopwords\n",
    "from nltk.tokenize import word_tokenize\n",
    "from nltk.stem.wordnet import WordNetLemmatizer\n",
    "from ast import literal_eval\n",
    "\n",
    "data = pd.read_csv(\"D:/BTK Akademi Eğitim/Veri Analizi/Gün 6/Hotel_Reviews.csv\")\n",
    "data.head(10)\n"
   ]
  },
  {
   "cell_type": "code",
   "execution_count": 4,
   "metadata": {
    "ExecuteTime": {
     "end_time": "2024-02-20T17:07:50.567686800Z",
     "start_time": "2024-02-20T17:07:49.889514Z"
    }
   },
   "outputs": [
    {
     "name": "stdout",
     "output_type": "stream",
     "text": [
      "['Netherlands' 'UK' 'France' 'Spain' 'Italy' 'Austria']\n"
     ]
    }
   ],
   "source": [
    "# birleşki krallık yerine UK\n",
    "data.Hotel_Address = data.Hotel_Address.str.replace(\"United Kingdom\", \"UK\")\n",
    "# Adresi bölelim ve ülkeyi tanımlamak için adresteki son kelimeyi seçelim\n",
    "data[\"countries\"] = data.Hotel_Address.apply(lambda x: x.split(' ')[-1])\n",
    "print(data.countries.unique())\n"
   ]
  },
  {
   "cell_type": "code",
   "execution_count": 7,
   "metadata": {
    "ExecuteTime": {
     "end_time": "2024-02-20T17:09:49.265182500Z",
     "start_time": "2024-02-20T17:09:49.205823700Z"
    }
   },
   "outputs": [],
   "source": [
    "data.drop(['Additional_Number_of_Scoring',\n",
    "       'Review_Date','Reviewer_Nationality',\n",
    "       'Negative_Review', 'Review_Total_Negative_Word_Counts',\n",
    "       'Total_Number_of_Reviews', 'Positive_Review',\n",
    "       'Review_Total_Positive_Word_Counts',\n",
    "       'Total_Number_of_Reviews_Reviewer_Has_Given', 'Reviewer_Score',\n",
    "       'days_since_review', 'lat', 'lng'],axis=1,inplace=True)"
   ]
  },
  {
   "cell_type": "code",
   "execution_count": 8,
   "metadata": {
    "ExecuteTime": {
     "end_time": "2024-02-20T17:10:25.214599800Z",
     "start_time": "2024-02-20T17:09:56.147496600Z"
    }
   },
   "outputs": [
    {
     "name": "stderr",
     "output_type": "stream",
     "text": [
      "C:\\Users\\alavh\\AppData\\Local\\Temp\\ipykernel_22008\\691946129.py:2: FutureWarning: Series.__getitem__ treating keys as positions is deprecated. In a future version, integer keys will always be treated as labels (consistent with DataFrame behavior). To access a value by position, use `ser.iloc[pos]`\n",
      "  column = column[0]\n"
     ]
    },
    {
     "data": {
      "text/plain": "                                       Hotel_Address  Average_Score  \\\n0   s Gravesandestraat 55 Oost 1092 AA Amsterdam ...            7.7   \n1   s Gravesandestraat 55 Oost 1092 AA Amsterdam ...            7.7   \n2   s Gravesandestraat 55 Oost 1092 AA Amsterdam ...            7.7   \n3   s Gravesandestraat 55 Oost 1092 AA Amsterdam ...            7.7   \n4   s Gravesandestraat 55 Oost 1092 AA Amsterdam ...            7.7   \n\n    Hotel_Name                                               Tags    countries  \n0  Hotel Arena   Leisure trip  Couple  Duplex Double Room  Sta...  Netherlands  \n1  Hotel Arena   Leisure trip  Couple  Duplex Double Room  Sta...  Netherlands  \n2  Hotel Arena   Leisure trip  Family with young children  Dup...  Netherlands  \n3  Hotel Arena   Leisure trip  Solo traveler  Duplex Double Ro...  Netherlands  \n4  Hotel Arena   Leisure trip  Couple  Suite  Stayed 2 nights ...  Netherlands  ",
      "text/html": "<div>\n<style scoped>\n    .dataframe tbody tr th:only-of-type {\n        vertical-align: middle;\n    }\n\n    .dataframe tbody tr th {\n        vertical-align: top;\n    }\n\n    .dataframe thead th {\n        text-align: right;\n    }\n</style>\n<table border=\"1\" class=\"dataframe\">\n  <thead>\n    <tr style=\"text-align: right;\">\n      <th></th>\n      <th>Hotel_Address</th>\n      <th>Average_Score</th>\n      <th>Hotel_Name</th>\n      <th>Tags</th>\n      <th>countries</th>\n    </tr>\n  </thead>\n  <tbody>\n    <tr>\n      <th>0</th>\n      <td>s Gravesandestraat 55 Oost 1092 AA Amsterdam ...</td>\n      <td>7.7</td>\n      <td>Hotel Arena</td>\n      <td>Leisure trip  Couple  Duplex Double Room  Sta...</td>\n      <td>Netherlands</td>\n    </tr>\n    <tr>\n      <th>1</th>\n      <td>s Gravesandestraat 55 Oost 1092 AA Amsterdam ...</td>\n      <td>7.7</td>\n      <td>Hotel Arena</td>\n      <td>Leisure trip  Couple  Duplex Double Room  Sta...</td>\n      <td>Netherlands</td>\n    </tr>\n    <tr>\n      <th>2</th>\n      <td>s Gravesandestraat 55 Oost 1092 AA Amsterdam ...</td>\n      <td>7.7</td>\n      <td>Hotel Arena</td>\n      <td>Leisure trip  Family with young children  Dup...</td>\n      <td>Netherlands</td>\n    </tr>\n    <tr>\n      <th>3</th>\n      <td>s Gravesandestraat 55 Oost 1092 AA Amsterdam ...</td>\n      <td>7.7</td>\n      <td>Hotel Arena</td>\n      <td>Leisure trip  Solo traveler  Duplex Double Ro...</td>\n      <td>Netherlands</td>\n    </tr>\n    <tr>\n      <th>4</th>\n      <td>s Gravesandestraat 55 Oost 1092 AA Amsterdam ...</td>\n      <td>7.7</td>\n      <td>Hotel Arena</td>\n      <td>Leisure trip  Couple  Suite  Stayed 2 nights ...</td>\n      <td>Netherlands</td>\n    </tr>\n  </tbody>\n</table>\n</div>"
     },
     "execution_count": 8,
     "metadata": {},
     "output_type": "execute_result"
    }
   ],
   "source": [
    "def impute(column):\n",
    "    column = column[0]\n",
    "    if (type(column) != list):\n",
    "        return \"\".join(literal_eval(column))\n",
    "    else:\n",
    "        return column\n",
    "    \n",
    "data[\"Tags\"] = data[[\"Tags\"]].apply(impute, axis=1)\n",
    "data.head()\n"
   ]
  },
  {
   "cell_type": "code",
   "execution_count": 9,
   "metadata": {
    "ExecuteTime": {
     "end_time": "2024-02-20T17:10:36.260187200Z",
     "start_time": "2024-02-20T17:10:36.002746200Z"
    }
   },
   "outputs": [],
   "source": [
    "data['countries'] = data['countries'].str.lower()\n",
    "data['Tags'] = data['Tags'].str.lower()\n",
    "\n"
   ]
  },
  {
   "cell_type": "code",
   "execution_count": 10,
   "metadata": {
    "ExecuteTime": {
     "end_time": "2024-02-20T17:10:41.044203300Z",
     "start_time": "2024-02-20T17:10:41.023192400Z"
    }
   },
   "outputs": [],
   "source": [
    "def recommend_hotel(location, description):\n",
    "    description = description.lower()\n",
    "    word_tokenize(description)\n",
    "    stop_words = stopwords.words('english')\n",
    "    lemm = WordNetLemmatizer()\n",
    "    filtered  = {word for word in description if not word in stop_words}\n",
    "    filtered_set = set()\n",
    "    for fs in filtered:\n",
    "        filtered_set.add(lemm.lemmatize(fs))\n",
    "\n",
    "    country = data[data['countries']==location.lower()]\n",
    "    country = country.set_index(np.arange(country.shape[0]))\n",
    "    list1 = []; list2 = []; cos = [];\n",
    "    for i in range(country.shape[0]):\n",
    "        temp_token = word_tokenize(country[\"Tags\"][i])\n",
    "        temp_set = [word for word in temp_token if not word in stop_words]\n",
    "        temp2_set = set()\n",
    "        for s in temp_set:\n",
    "            temp2_set.add(lemm.lemmatize(s))\n",
    "        vector = temp2_set.intersection(filtered_set)\n",
    "        cos.append(len(vector))\n",
    "    country['similarity']=cos\n",
    "    country = country.sort_values(by='similarity', ascending=False)\n",
    "    country.drop_duplicates(subset='Hotel_Name', keep='first', inplace=True)\n",
    "    country.sort_values('Average_Score', ascending=False, inplace=True)\n",
    "    country.reset_index(inplace=True)\n",
    "    return country[[\"Hotel_Name\", \"Average_Score\", \"Hotel_Address\"]].head()\n"
   ]
  },
  {
   "cell_type": "code",
   "outputs": [
    {
     "name": "stderr",
     "output_type": "stream",
     "text": [
      "[nltk_data] Downloading package punkt to\n",
      "[nltk_data]     C:\\Users\\alavh\\AppData\\Roaming\\nltk_data...\n",
      "[nltk_data]   Unzipping tokenizers\\punkt.zip.\n"
     ]
    },
    {
     "data": {
      "text/plain": "True"
     },
     "execution_count": 12,
     "metadata": {},
     "output_type": "execute_result"
    }
   ],
   "source": [
    "nltk.download('punkt')"
   ],
   "metadata": {
    "collapsed": false,
    "ExecuteTime": {
     "end_time": "2024-02-20T17:12:04.009889300Z",
     "start_time": "2024-02-20T17:12:01.366895700Z"
    }
   },
   "execution_count": 12
  },
  {
   "cell_type": "code",
   "outputs": [
    {
     "name": "stderr",
     "output_type": "stream",
     "text": [
      "[nltk_data] Downloading package stopwords to\n",
      "[nltk_data]     C:\\Users\\alavh\\AppData\\Roaming\\nltk_data...\n",
      "[nltk_data]   Unzipping corpora\\stopwords.zip.\n"
     ]
    },
    {
     "data": {
      "text/plain": "True"
     },
     "execution_count": 14,
     "metadata": {},
     "output_type": "execute_result"
    }
   ],
   "source": [
    "nltk.download('stopwords')"
   ],
   "metadata": {
    "collapsed": false,
    "ExecuteTime": {
     "end_time": "2024-02-20T17:12:21.910607300Z",
     "start_time": "2024-02-20T17:12:21.590382100Z"
    }
   },
   "execution_count": 14
  },
  {
   "cell_type": "code",
   "execution_count": 15,
   "metadata": {
    "ExecuteTime": {
     "end_time": "2024-02-20T17:12:37.216468400Z",
     "start_time": "2024-02-20T17:12:24.978581700Z"
    }
   },
   "outputs": [
    {
     "data": {
      "text/plain": "                                       Hotel_Name  Average_Score  \\\n0  Excelsior Hotel Gallia Luxury Collection Hotel            9.4   \n1           Palazzo Parigi Hotel Grand Spa Milano            9.3   \n2                          Hotel Spadari Al Duomo            9.3   \n3                                Room Mate Giulia            9.3   \n4                               UNA Maison Milano            9.3   \n\n                                       Hotel_Address  \n0  Piazza Duca D Aosta 9 Central Station 20124 Mi...  \n1  Corso Di Porta Nuova 1 Milan City Center 20121...  \n2  Via Spadari 11 Milan City Center 20123 Milan I...  \n3  Silvio Pellico 4 Milan City Center 20121 Milan...  \n4  Via Mazzini 4 Milan City Center 20123 Milan Italy  ",
      "text/html": "<div>\n<style scoped>\n    .dataframe tbody tr th:only-of-type {\n        vertical-align: middle;\n    }\n\n    .dataframe tbody tr th {\n        vertical-align: top;\n    }\n\n    .dataframe thead th {\n        text-align: right;\n    }\n</style>\n<table border=\"1\" class=\"dataframe\">\n  <thead>\n    <tr style=\"text-align: right;\">\n      <th></th>\n      <th>Hotel_Name</th>\n      <th>Average_Score</th>\n      <th>Hotel_Address</th>\n    </tr>\n  </thead>\n  <tbody>\n    <tr>\n      <th>0</th>\n      <td>Excelsior Hotel Gallia Luxury Collection Hotel</td>\n      <td>9.4</td>\n      <td>Piazza Duca D Aosta 9 Central Station 20124 Mi...</td>\n    </tr>\n    <tr>\n      <th>1</th>\n      <td>Palazzo Parigi Hotel Grand Spa Milano</td>\n      <td>9.3</td>\n      <td>Corso Di Porta Nuova 1 Milan City Center 20121...</td>\n    </tr>\n    <tr>\n      <th>2</th>\n      <td>Hotel Spadari Al Duomo</td>\n      <td>9.3</td>\n      <td>Via Spadari 11 Milan City Center 20123 Milan I...</td>\n    </tr>\n    <tr>\n      <th>3</th>\n      <td>Room Mate Giulia</td>\n      <td>9.3</td>\n      <td>Silvio Pellico 4 Milan City Center 20121 Milan...</td>\n    </tr>\n    <tr>\n      <th>4</th>\n      <td>UNA Maison Milano</td>\n      <td>9.3</td>\n      <td>Via Mazzini 4 Milan City Center 20123 Milan Italy</td>\n    </tr>\n  </tbody>\n</table>\n</div>"
     },
     "execution_count": 15,
     "metadata": {},
     "output_type": "execute_result"
    }
   ],
   "source": [
    "recommend_hotel('Italy', 'I am going for a business trip')\n"
   ]
  },
  {
   "cell_type": "code",
   "execution_count": 16,
   "metadata": {
    "ExecuteTime": {
     "end_time": "2024-02-20T17:14:19.225299Z",
     "start_time": "2024-02-20T17:13:11.530495800Z"
    }
   },
   "outputs": [
    {
     "data": {
      "text/plain": "                                     Hotel_Name  Average_Score  \\\n0                               Haymarket Hotel            9.6   \n1                                            41            9.6   \n2  Taj 51 Buckingham Gate Suites and Residences            9.5   \n3                        Charlotte Street Hotel            9.5   \n4                                Ham Yard Hotel            9.5   \n\n                                       Hotel_Address  \n0  1 Suffolk Place Westminster Borough London SW1...  \n1  41 Buckingham Palace Road Westminster Borough ...  \n2  Buckingham Gate Westminster Borough London SW1...  \n3  15 17 Charlotte Street Hotel Westminster Borou...  \n4  One Ham Yard Westminster Borough London W1D 7D...  ",
      "text/html": "<div>\n<style scoped>\n    .dataframe tbody tr th:only-of-type {\n        vertical-align: middle;\n    }\n\n    .dataframe tbody tr th {\n        vertical-align: top;\n    }\n\n    .dataframe thead th {\n        text-align: right;\n    }\n</style>\n<table border=\"1\" class=\"dataframe\">\n  <thead>\n    <tr style=\"text-align: right;\">\n      <th></th>\n      <th>Hotel_Name</th>\n      <th>Average_Score</th>\n      <th>Hotel_Address</th>\n    </tr>\n  </thead>\n  <tbody>\n    <tr>\n      <th>0</th>\n      <td>Haymarket Hotel</td>\n      <td>9.6</td>\n      <td>1 Suffolk Place Westminster Borough London SW1...</td>\n    </tr>\n    <tr>\n      <th>1</th>\n      <td>41</td>\n      <td>9.6</td>\n      <td>41 Buckingham Palace Road Westminster Borough ...</td>\n    </tr>\n    <tr>\n      <th>2</th>\n      <td>Taj 51 Buckingham Gate Suites and Residences</td>\n      <td>9.5</td>\n      <td>Buckingham Gate Westminster Borough London SW1...</td>\n    </tr>\n    <tr>\n      <th>3</th>\n      <td>Charlotte Street Hotel</td>\n      <td>9.5</td>\n      <td>15 17 Charlotte Street Hotel Westminster Borou...</td>\n    </tr>\n    <tr>\n      <th>4</th>\n      <td>Ham Yard Hotel</td>\n      <td>9.5</td>\n      <td>One Ham Yard Westminster Borough London W1D 7D...</td>\n    </tr>\n  </tbody>\n</table>\n</div>"
     },
     "execution_count": 16,
     "metadata": {},
     "output_type": "execute_result"
    }
   ],
   "source": [
    "recommend_hotel('UK','I am going on a honeymoon, I need a honeymoon suite room for 3 nights')\n"
   ]
  },
  {
   "cell_type": "code",
   "execution_count": 18,
   "metadata": {
    "ExecuteTime": {
     "end_time": "2024-02-20T17:14:31.107415300Z",
     "start_time": "2024-02-20T17:14:31.063814200Z"
    }
   },
   "outputs": [
    {
     "data": {
      "text/plain": "Empty DataFrame\nColumns: [Hotel_Name, Average_Score, Hotel_Address]\nIndex: []",
      "text/html": "<div>\n<style scoped>\n    .dataframe tbody tr th:only-of-type {\n        vertical-align: middle;\n    }\n\n    .dataframe tbody tr th {\n        vertical-align: top;\n    }\n\n    .dataframe thead th {\n        text-align: right;\n    }\n</style>\n<table border=\"1\" class=\"dataframe\">\n  <thead>\n    <tr style=\"text-align: right;\">\n      <th></th>\n      <th>Hotel_Name</th>\n      <th>Average_Score</th>\n      <th>Hotel_Address</th>\n    </tr>\n  </thead>\n  <tbody>\n  </tbody>\n</table>\n</div>"
     },
     "execution_count": 18,
     "metadata": {},
     "output_type": "execute_result"
    }
   ],
   "source": [
    "recommend_hotel('London','I am going on a honeymoon, I need a honeymoon suite room for 3 nights')"
   ]
  },
  {
   "cell_type": "code",
   "outputs": [],
   "source": [],
   "metadata": {
    "collapsed": false
   }
  }
 ],
 "metadata": {
  "kernelspec": {
   "display_name": "Python 3",
   "language": "python",
   "name": "python3"
  },
  "language_info": {
   "codemirror_mode": {
    "name": "ipython",
    "version": 3
   },
   "file_extension": ".py",
   "mimetype": "text/x-python",
   "name": "python",
   "nbconvert_exporter": "python",
   "pygments_lexer": "ipython3",
   "version": "3.7.6"
  }
 },
 "nbformat": 4,
 "nbformat_minor": 4
}
