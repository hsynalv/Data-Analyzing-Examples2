{
 "cells": [
  {
   "cell_type": "code",
   "execution_count": 1,
   "metadata": {
    "ExecuteTime": {
     "end_time": "2024-02-20T17:04:14.480759500Z",
     "start_time": "2024-02-20T17:04:12.903956200Z"
    }
   },
   "outputs": [],
   "source": [
    "import pandas as pd \n",
    "import numpy as np\n",
    "import matplotlib.pyplot as plt"
   ]
  },
  {
   "cell_type": "code",
   "execution_count": 2,
   "metadata": {
    "ExecuteTime": {
     "end_time": "2024-02-20T17:04:48.217840700Z",
     "start_time": "2024-02-20T17:04:28.264832100Z"
    }
   },
   "outputs": [],
   "source": [
    "movie = pd.read_csv(\"movie.csv\")\n",
    "# \"rating.csv\" dosyasını okuyarak bir veri çerçevesi oluşturur.\n",
    "# Ardından \"timestamp\" sütununu veriden çıkarır.\n",
    "rating = pd.read_csv(\"rating.csv\").drop(\"timestamp\",axis=1)"
   ]
  },
  {
   "cell_type": "code",
   "execution_count": null,
   "metadata": {},
   "outputs": [],
   "source": [
    "print(movie.dtypes)\n",
    "print(rating.dtypes)"
   ]
  },
  {
   "cell_type": "code",
   "execution_count": null,
   "metadata": {},
   "outputs": [],
   "source": [
    "movie[\"movieId\"] = movie[\"movieId\"].astype(object)\n",
    "rating[\"movieId\"] = rating[\"movieId\"].astype(object)\n",
    "rating[\"userId\"] = rating[\"userId\"].astype(object)\n"
   ]
  },
  {
   "cell_type": "code",
   "execution_count": null,
   "metadata": {},
   "outputs": [],
   "source": [
    "print(movie.isnull().sum())\n",
    "print(rating.isnull().sum())"
   ]
  },
  {
   "cell_type": "code",
   "execution_count": null,
   "metadata": {},
   "outputs": [],
   "source": [
    "C = rating[\"rating\"].mean()\n",
    "print(C)"
   ]
  },
  {
   "cell_type": "code",
   "execution_count": null,
   "metadata": {},
   "outputs": [],
   "source": [
    "# Veri çerçevesindeki \"movieId\" sütununa göre gruplama yapılır ve her bir film için oy sayısını hesaplar.\n",
    "rating_count = rating.groupby([\"movieId\"]).count()\n",
    "\n",
    "# Yeni bir \"movieId\" sütunu oluşturarak gruplama sonuçlarını bu sütunda saklar.\n",
    "rating_count[\"movieId\"] = rating_count.index\n",
    "\n",
    "# İndeks adını \"None\" olarak değiştirir.\n",
    "rating_count.index.name = None\n",
    "\n",
    "# İndeksi sıfırlayarak, yeni \"movieId\" sütununu eski indeks olarak kullanır.\n",
    "rating_count.reset_index(inplace=True)\n",
    "\n",
    "# Gereksiz \"index\" sütununu kaldırır.\n",
    "del rating_count[\"index\"]\n",
    "\n",
    "rating_count\n",
    "\n"
   ]
  },
  {
   "cell_type": "code",
   "execution_count": null,
   "metadata": {},
   "outputs": [],
   "source": [
    "means = rating.groupby([\"movieId\"]).mean()\n",
    "means[\"movieId\"] = means.index\n",
    "means.index.name = None\n",
    "means.reset_index(inplace=True)\n",
    "del means[\"index\"]\n",
    "means = means.rename(columns={\"rating\":\"mean\"})\n",
    "\n",
    "means"
   ]
  },
  {
   "cell_type": "code",
   "execution_count": null,
   "metadata": {},
   "outputs": [],
   "source": [
    "df = pd.merge(movie, rating_count)\n",
    "df = pd.merge(df, means)\n",
    "\n",
    "print(df.head)"
   ]
  },
  {
   "cell_type": "markdown",
   "metadata": {},
   "source": [
    "## persentilde ( yüzdelik dilim )"
   ]
  },
  {
   "cell_type": "code",
   "execution_count": null,
   "metadata": {},
   "outputs": [],
   "source": [
    "# Veri çerçevesindeki \"userId\" sütunundaki değerlerin %90'ını belirleyerek eşik değeri oluşturur.\n",
    "m = df[\"userId\"].quantile(0.90)\n",
    "\n",
    "# Orijinal veri çerçevesini kopyalar ve sadece \"userId\" sütunundaki değeri eşik değerden büyük veya eşit olanları içerecek şekilde filtreler.\n",
    "q_movies = df.copy().loc[df[\"userId\"] >= m]\n",
    "\n",
    "q_movies.shape\n"
   ]
  },
  {
   "cell_type": "code",
   "execution_count": null,
   "metadata": {},
   "outputs": [],
   "source": [
    "# Bir film için ağırlıklı bir puan hesaplamak üzere kullanılacak fonksiyonu tanımlar.\n",
    "# Bu fonksiyon, kullanıcı sayısı (v), ortalama puan (R), eşik değeri (m) ve normalleştirme sabiti (C) parametrelerini alır.\n",
    "def weight_rating(x, m=m, C=C):\n",
    "    v = x[\"userId\"]  # Kullanıcı sayısını alır.\n",
    "    R = x[\"mean\"]    # Ortalama puanı alır.\n",
    "    \n",
    "    # Ağırlıklı puan formülüne göre ağırlıklı puanı hesaplar ve döndürür.\n",
    "    return (v / (v + m) * R) + (m / (m + v) * C)\n",
    "\n",
    "# \"q_movies\" veri çerçevesine \"weighted_rating\" adında yeni bir sütun ekler.\n",
    "# Bu sütun, \"weight_rating\" fonksiyonunu kullanarak her bir film için ağırlıklı puanı içerir.\n",
    "q_movies[\"weighted_rating\"] = q_movies.apply(weight_rating, axis=1)\n",
    "\n",
    "# \"q_movies\" veri çerçevesini \"score\" sütununa göre büyükten küçüğe sıralar.\n",
    "q_movies = q_movies.sort_values(\"score\", ascending=False)\n",
    "\n",
    "\n",
    "q_movies.head(10)\n"
   ]
  }
 ],
 "metadata": {
  "kernelspec": {
   "display_name": "Python 3",
   "language": "python",
   "name": "python3"
  },
  "language_info": {
   "codemirror_mode": {
    "name": "ipython",
    "version": 3
   },
   "file_extension": ".py",
   "mimetype": "text/x-python",
   "name": "python",
   "nbconvert_exporter": "python",
   "pygments_lexer": "ipython3",
   "version": "3.10.12"
  }
 },
 "nbformat": 4,
 "nbformat_minor": 2
}
